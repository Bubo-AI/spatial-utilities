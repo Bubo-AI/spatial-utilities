{
 "cells": [
  {
   "cell_type": "markdown",
   "metadata": {},
   "source": [
    "# UK Postcode to British National Grid Mapper\n",
    "\n",
    "This tool links each postcode to British National Grid Reference numbers. Before running this notebook, please download following data to `data` folder into their own directories:\n",
    "\n",
    "- British National Grid from [here](https://github.com/OrdnanceSurvey/OS-British-National-Grids)\n",
    "- Latest National Statistics Postcode Lookup [here](https://geoportal.statistics.gov.uk/search?sort=-modified&tags=prd_nspl) (for [February 2022](https://geoportal.statistics.gov.uk/datasets/national-statistics-postcode-lookup-february-2022/about))\n",
    "\n",
    "For convenience, British National Grid repository added as a submodule. To get it, you can either clone this repository with `--recurse-submodules` flag or execute the following commands to pull it after cloning.\n",
    "\n",
    "```bash\n",
    "git submodule init\n",
    "git submodule update\n",
    "```"
   ]
  },
  {
   "cell_type": "code",
   "execution_count": null,
   "metadata": {},
   "outputs": [],
   "source": [
    "import pandas as pd\n",
    "import geopandas as gpd\n",
    "from pathlib import Path\n",
    "\n",
    "DATA = Path(\"data\")"
   ]
  },
  {
   "cell_type": "code",
   "execution_count": null,
   "metadata": {},
   "outputs": [],
   "source": [
    "ONSPD_VERSION = \"FEB_2022\""
   ]
  },
  {
   "cell_type": "code",
   "execution_count": null,
   "metadata": {},
   "outputs": [],
   "source": [
    "ONSPD_PATH = DATA/f'ONSPD_{ONSPD_VERSION}_UK'/'Data'/f'ONSPD_{ONSPD_VERSION}_UK.csv'\n",
    "BNG_PATH = DATA / \"OS-British-National-Grids\" / \"os_bng_grids.gpkg\"\n",
    "\n",
    "assert ONSPD_PATH.exists(), (f\"ONSPD file not found: {ONSPD_PATH}. \\n\"\n",
    "\"Please download it from: \"\n",
    "\"https://geoportal.statistics.gov.uk/search?sort=-modified&tags=prd_nspl.\"\n",
    "\" and decompress under the 'data' directory.\\n\"\n",
    "\"If you already downloaded, please check ONSPD_VERSION and the file path.\")\n",
    "\n",
    "assert BNG_PATH.with_suffix('.7z').exists(), (\n",
    "    f\"British National Grid file not found: {BNG_PATH}. \\n\"\n",
    "    \"Please run the following command to download it:\\n\"\n",
    "    \"git submodule init\\n\"\n",
    "    \"git submodule update\"\n",
    ")\n",
    "\n",
    "print(\n",
    "    \"Decompressing British National Grid file. \"\n",
    "    \"You can comment this line if it's already decompressed.\"\n",
    ")\n",
    "\n",
    "!tar -xJf {BNG_PATH.with_suffix('.7z').absolute()} -C {BNG_PATH.parent.absolute()}\n",
    "\n",
    "print(\"Decompression completed.\")\n",
    "\n",
    "assert BNG_PATH.exists(), (\n",
    "    f\"British National Grid cannot be decompressed. Please decompress the \"\n",
    "    f\"{BNG_PATH.with_suffix('.7z').name} file manually\"\n",
    ")"
   ]
  },
  {
   "cell_type": "code",
   "execution_count": null,
   "metadata": {},
   "outputs": [],
   "source": [
    "# reference: https://stackoverflow.com/a/57971376/1360267\n",
    "bng_refs = {\n",
    "    layername: gpd.read_file(BNG_PATH, layer=layername)[[\"tile_name\", \"geometry\"]]\n",
    "    .rename(columns={\"tile_name\": layername})\n",
    "    .set_index(layername)\n",
    "    .to_crs(epsg=4326)\n",
    "    for layername in gpd.io.file.fiona.listlayers(BNG_PATH)\n",
    "}"
   ]
  },
  {
   "cell_type": "code",
   "execution_count": null,
   "metadata": {},
   "outputs": [],
   "source": [
    "postcode_gpd = (\n",
    "    pd.read_csv(\n",
    "        ONSPD_PATH,\n",
    "        usecols=[\"pcd\", \"lat\", \"long\"],\n",
    "    )\n",
    "    .rename(\n",
    "        columns={\n",
    "            \"pcd\": \"Postcode\",\n",
    "            \"long\": \"lon\",\n",
    "        }\n",
    "    )\n",
    "    .pipe(\n",
    "        lambda df: gpd.GeoDataFrame(\n",
    "            df,\n",
    "            geometry=gpd.points_from_xy(\n",
    "                df[\"lon\"],\n",
    "                df[\"lat\"],\n",
    "                crs=\"EPSG:4326\",\n",
    "            ),\n",
    "        ).set_index(\"Postcode\")\n",
    "    )\n",
    ")"
   ]
  },
  {
   "cell_type": "code",
   "execution_count": null,
   "metadata": {},
   "outputs": [],
   "source": [
    "postcode_to_national_grid_gdf = postcode_gpd.copy()\n",
    "for grid_ref, bng in bng_refs.items():\n",
    "    # for each postcode coordinate, find the containing grid reference\n",
    "    postcode_to_national_grid_gdf = postcode_to_national_grid_gdf.sjoin(\n",
    "        bng, how=\"left\", predicate=\"within\"\n",
    "    ).rename(columns={\"index_right\": grid_ref})"
   ]
  },
  {
   "cell_type": "code",
   "execution_count": null,
   "metadata": {},
   "outputs": [],
   "source": [
    "# convert it to pandas dataframe and set national grid reference types to categorical\n",
    "postcode_to_national_grid_df = (\n",
    "    pd.DataFrame(postcode_to_national_grid_gdf.drop(columns=\"geometry\")).pipe(\n",
    "        lambda df: df.assign(\n",
    "            **{\n",
    "                # convert grid reference values to categorical\n",
    "                grid_ref: df[grid_ref].astype(\"category\")\n",
    "                for grid_ref in bng_refs.keys()\n",
    "            }\n",
    "        )\n",
    "    )\n",
    "    # drop rows with missing values - i.e. unused postcodes\n",
    "    .dropna(how=\"any\")\n",
    ")\n",
    "\n",
    "postcode_to_national_grid_df.to_parquet(\n",
    "    DATA / \"postcode_to_national_grid_references.parquet\", compression=\"gzip\"\n",
    ")\n",
    "\n",
    "postcode_to_national_grid_df.to_csv(\n",
    "    DATA / \"postcode_to_national_grid_references.csv.gz\", compression=\"gzip\"\n",
    ")"
   ]
  }
 ],
 "metadata": {
  "interpreter": {
   "hash": "84faba2c3d73f72195a31da7dbd07f0b601f44c80958afd4e19c4d66e3eef367"
  },
  "kernelspec": {
   "display_name": "Python 3.9.7 ('py39')",
   "language": "python",
   "name": "python3"
  },
  "language_info": {
   "codemirror_mode": {
    "name": "ipython",
    "version": 3
   },
   "file_extension": ".py",
   "mimetype": "text/x-python",
   "name": "python",
   "nbconvert_exporter": "python",
   "pygments_lexer": "ipython3",
   "version": "3.9.7"
  },
  "orig_nbformat": 4
 },
 "nbformat": 4,
 "nbformat_minor": 2
}
